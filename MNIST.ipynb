
   "source": [
    "import numpy as np\n",
    "from sklearn import datasets\n",
    "from sklearn.model_selection import train_test_split\n",
    "from sklearn.svm import SVC\n",
    "from sklearn.metrics import accuracy_score\n",
    "import matplotlib.pyplot as plt\n",
    "\n",
    "# Load the MNIST dataset\n",
    "subset_indices = [i for i in range(200)]\n",
    "mnist = datasets.fetch_openml('mnist_784')\n",
    "X = mnist.data.to_numpy()[subset_indices]\n",
    "y = mnist.target.to_numpy()[subset_indices]\n",
    "X_train, X_test, y_train, y_test = train_test_split(X, y, test_size=0.2, random_state=42)\n",
    "svm_clf = SVC(kernel='linear')\n",
    "svm_clf.fit(X_train, y_train)\n",
    "y_pred = svm_clf.predict(X_test)\n",
    "accuracy = accuracy_score(y_test, y_pred)\n",
    "print(\"Accuracy:\", accuracy)\n",
    "a=[X_test[17]]\n",
    "ans=svm_clf.predict(a)\n",
    "image = X_test[17].reshape(28,28) # Reshape the flattened image back to 28x28\n",
    "plt.figure()\n",
    "plt.imshow(image)\n",
    "plt.title(f\"Label: {y[17]}\")\n",
    "plt.show()\n",
    "print(ans)\n",
    "print(\"The predicted number is\"+ans)\n",
    "print(\"The actual number is \"+y_test[15])\n",
    "\n"
   ]
  },
  {
   "cell_type": "code",
   "execution_count": null,
   "metadata": {},
   "outputs": [],
   "source": []
  },
  {
   "cell_type": "code",
   "execution_count": null,
   "metadata": {},
   "outputs": [],
   "source": []
  }
 ],
 "metadata": {
  "kernelspec": {
   "display_name": "Python 3",
   "language": "python",
   "name": "python3"
  },
  "language_info": {
   "codemirror_mode": {
    "name": "ipython",
    "version": 3
   },
   "file_extension": ".py",
   "mimetype": "text/x-python",
   "name": "python",
   "nbconvert_exporter": "python",
   "pygments_lexer": "ipython3",
   "version": "3.11.4"
  },
  "orig_nbformat": 4
 },
 "nbformat": 4,
 "nbformat_minor": 2
}
