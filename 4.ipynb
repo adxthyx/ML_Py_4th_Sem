{
 "cells": [
  {
   "cell_type": "code",
   "execution_count": 1,
   "metadata": {},
   "outputs": [
    {
     "name": "stdout",
     "output_type": "stream",
     "text": [
      "Epoch 1/5\n",
      "844/844 [==============================] - 3s 3ms/step - loss: 0.2887 - accuracy: 0.9178 - val_loss: 0.1252 - val_accuracy: 0.9665\n",
      "Epoch 2/5\n",
      "844/844 [==============================] - 2s 3ms/step - loss: 0.1206 - accuracy: 0.9639 - val_loss: 0.0931 - val_accuracy: 0.9728\n",
      "Epoch 3/5\n",
      "844/844 [==============================] - 2s 3ms/step - loss: 0.0835 - accuracy: 0.9746 - val_loss: 0.0769 - val_accuracy: 0.9763\n",
      "Epoch 4/5\n",
      "844/844 [==============================] - 2s 3ms/step - loss: 0.0626 - accuracy: 0.9807 - val_loss: 0.0884 - val_accuracy: 0.9730\n",
      "Epoch 5/5\n",
      "844/844 [==============================] - 2s 3ms/step - loss: 0.0496 - accuracy: 0.9845 - val_loss: 0.0708 - val_accuracy: 0.9787\n",
      "313/313 [==============================] - 0s 1ms/step - loss: 0.0773 - accuracy: 0.9752\n",
      "Test accuracy: 0.9751999974250793\n"
     ]
    }
   ],
   "source": [
    "\n"
   ]
  },
  {
   "cell_type": "code",
   "execution_count": 2,
   "metadata": {},
   "outputs": [
    {
     "name": "stderr",
     "output_type": "stream",
     "text": [
      "C:\\Users\\adith\\AppData\\Roaming\\Python\\Python311\\site-packages\\sklearn\\datasets\\_openml.py:1002: FutureWarning: The default value of `parser` will change from `'liac-arff'` to `'auto'` in 1.4. You can set `parser='auto'` to silence this warning. Therefore, an `ImportError` will be raised from 1.4 if the dataset is dense and pandas is not installed. Note that the pandas parser may return different data types. See the Notes Section in fetch_openml's API doc for details.\n",
      "  warn(\n"
     ]
    },
    {
     "name": "stdout",
     "output_type": "stream",
     "text": [
      "Accuracy: 0.85\n"
     ]
    },
    {
     "data": {
      "image/png": "[encoded data removed]",
      "text/plain": [
       "<Figure size 640x480 with 1 Axes>"
      ]
     },
     "metadata": {},
     "output_type": "display_data"
    },
    {
     "name": "stdout",
     "output_type": "stream",
     "text": [
      "['1']\n",
      "['The predicted number is1']\n",
      "The actual number is 1\n"
     ]
    }
   ],
   "source": [
    "import numpy as np\n",
    "from sklearn import datasets\n",
    "from sklearn.model_selection import train_test_split\n",
    "from sklearn.svm import SVC\n",
    "from sklearn.metrics import accuracy_score\n",
    "import matplotlib.pyplot as plt\n",
    "\n",
    "# Load the MNIST dataset\n",
    "subset_indices = [i for i in range(200)]\n",
    "mnist = datasets.fetch_openml('mnist_784')\n",
    "X = mnist.data.to_numpy()[subset_indices]\n",
    "y = mnist.target.to_numpy()[subset_indices]\n",
    "X_train, X_test, y_train, y_test = train_test_split(X, y, test_size=0.2, random_state=42)\n",
    "svm_clf = SVC(kernel='linear')\n",
    "svm_clf.fit(X_train, y_train)\n",
    "y_pred = svm_clf.predict(X_test)\n",
    "accuracy = accuracy_score(y_test, y_pred)\n",
    "print(\"Accuracy:\", accuracy)\n",
    "a=[X_test[17]]\n",
    "ans=svm_clf.predict(a)\n",
    "image = X_test[17].reshape(28,28) # Reshape the flattened image back to 28x28\n",
    "plt.figure()\n",
    "plt.imshow(image)\n",
    "plt.title(f\"Label: {y[17]}\")\n",
    "plt.show()\n",
    "print(ans)\n",
    "print(\"The predicted number is\"+ans)\n",
    "print(\"The actual number is \"+y_test[15])\n",
    "\n"
   ]
  },
  {
   "cell_type": "code",
   "execution_count": null,
   "metadata": {},
   "outputs": [],
   "source": []
  },
  {
   "cell_type": "code",
   "execution_count": null,
   "metadata": {},
   "outputs": [],
   "source": []
  }
 ],
 "metadata": {
  "kernelspec": {
   "display_name": "Python 3",
   "language": "python",
   "name": "python3"
  },
  "language_info": {
   "codemirror_mode": {
    "name": "ipython",
    "version": 3
   },
   "file_extension": ".py",
   "mimetype": "text/x-python",
   "name": "python",
   "nbconvert_exporter": "python",
   "pygments_lexer": "ipython3",
   "version": "3.11.4"
  },
  "orig_nbformat": 4
 },
 "nbformat": 4,
 "nbformat_minor": 2
}
