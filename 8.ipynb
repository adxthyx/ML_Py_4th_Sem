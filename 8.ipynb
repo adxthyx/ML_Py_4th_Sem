{
 "cells": [
  {
   "cell_type": "code",
   "execution_count": 2,
   "metadata": {},
   "outputs": [
    {
     "name": "stdout",
     "output_type": "stream",
     "text": [
      "actual output[0.3 0.4 0.5 0.6]\n",
      "Predictions: [0.28808842 0.38434255 0.49706165 0.60978074]\n"
     ]
    }
   ],
   "source": [
    "import numpy as np\n",
    "from sklearn.neural_network import MLPRegressor\n",
    "\n",
    "# Define the input and output data\n",
    "X = np.array([[0.1, 0.2], [0.3, 0.4], [0.5, 0.6], [0.7, 0.8]])\n",
    "y = np.array([0.3, 0.4, 0.5, 0.6])\n",
    "\n",
    "# Create and train the neural network with a learning rate\n",
    "learning_rate = 0.1  # Adjust this value as needed\n",
    "model = MLPRegressor(hidden_layer_sizes=(7,),\n",
    "                      max_iter=5000,\n",
    "                      learning_rate_init=learning_rate,\n",
    "                      random_state=42)\n",
    "model.fit(X, y)\n",
    "\n",
    "# Predict using the trained model\n",
    "predictions = model.predict(X)\n",
    "print(f\"actual output{y}\")\n",
    "print(\"Predictions:\", predictions)\n"
   ]
  },
  {
   "cell_type": "code",
   "execution_count": null,
   "metadata": {},
   "outputs": [],
   "source": []
  }
 ],
 "metadata": {
  "kernelspec": {
   "display_name": "Python 3",
   "language": "python",
   "name": "python3"
  },
  "language_info": {
   "codemirror_mode": {
    "name": "ipython",
    "version": 3
   },
   "file_extension": ".py",
   "mimetype": "text/x-python",
   "name": "python",
   "nbconvert_exporter": "python",
   "pygments_lexer": "ipython3",
   "version": "3.11.4"
  },
  "orig_nbformat": 4
 },
 "nbformat": 4,
 "nbformat_minor": 2
}
