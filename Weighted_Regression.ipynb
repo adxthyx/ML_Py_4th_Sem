{
 "cells": [
  {
   "cell_type": "code",
   "execution_count": 2,
   "metadata": {},
   "outputs": [
    {
     "name": "stdout",
     "output_type": "stream",
     "text": [
      "Weight Matrix:\n",
      "[[3.72665317e-06 0.00000000e+00 0.00000000e+00 0.00000000e+00\n",
      "  0.00000000e+00]\n",
      " [0.00000000e+00 1.11089965e-02 0.00000000e+00 0.00000000e+00\n",
      "  0.00000000e+00]\n",
      " [0.00000000e+00 0.00000000e+00 6.06530660e-01 0.00000000e+00\n",
      "  0.00000000e+00]\n",
      " [0.00000000e+00 0.00000000e+00 0.00000000e+00 6.06530660e-01\n",
      "  0.00000000e+00]\n",
      " [0.00000000e+00 0.00000000e+00 0.00000000e+00 0.00000000e+00\n",
      "  1.11089965e-02]]\n",
      "\n",
      "Model Parameters:\n",
      "Intercept: [ 7.18307615 -0.76402754]\n",
      "Slope: -0.764027536642395\n",
      "\n",
      "Predicted value: 4.508979773371469\n"
     ]
    }
   ],
   "source": [
    "import numpy as np\n",
    "\n",
    "# Gaussian kernel function\n",
    "def gaussian_kernel(x, x0, t):\n",
    "    return np.exp(-0.5 * np.square((x - x0) / t))\n",
    "\n",
    "# Example data\n",
    "X = np.array([1, 2, 3, 4, 5])\n",
    "Y = np.array([2, 4, 5, 4, 6])\n",
    "x0 = 3.5  # Point of interest\n",
    "t = 0.5   # Smoothing parameter\n",
    "\n",
    "m = len(X)\n",
    "X_biased = np.vstack((np.ones(m), X)).T  # Adding a bias term to X\n",
    "# Calculate the weight matrix\n",
    "W = np.diag(gaussian_kernel(X, x0, t))\n",
    "\n",
    "# Calculate the model parameters\n",
    "X_weighted = X_biased.T @ W @ X_biased\n",
    "Y_weighted = X_biased.T @ W @ Y\n",
    "B = np.linalg.inv(X_weighted) @ Y_weighted\n",
    "\n",
    "# Make predictions\n",
    "X_pred = np.array([1, x0])\n",
    "predicted_value = X_pred @ B\n",
    "\n",
    "# Printing weight matrix\n",
    "print(\"Weight Matrix:\")\n",
    "print(W)\n",
    "\n",
    "# Printing model parameters\n",
    "print(\"\\nModel Parameters:\")\n",
    "print(\"Intercept:\", B[0])\n",
    "print(\"Slope:\", B[1])\n",
    "\n",
    "# Printing predicted value\n",
    "print(\"\\nPredicted value:\", predicted_value)\n"
   ]
  },
  {
   "cell_type": "code",
   "execution_count": null,
   "metadata": {},
   "outputs": [],
   "source": []
  }
 ],
 "metadata": {
  "kernelspec": {
   "display_name": "Python 3",
   "language": "python",
   "name": "python3"
  },
  "language_info": {
   "codemirror_mode": {
    "name": "ipython",
    "version": 3
   },
   "file_extension": ".py",
   "mimetype": "text/x-python",
   "name": "python",
   "nbconvert_exporter": "python",
   "pygments_lexer": "ipython3",
   "version": "3.11.4"
  },
  "orig_nbformat": 4
 },
 "nbformat": 4,
 "nbformat_minor": 2
}
